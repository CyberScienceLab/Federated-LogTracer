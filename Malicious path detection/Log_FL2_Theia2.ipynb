{
 "cells": [
  {
   "cell_type": "code",
   "execution_count": 2,
   "id": "c6fd5c7f",
   "metadata": {},
   "outputs": [],
   "source": [
    "import pandas as pd\n",
    "from sklearn.preprocessing import LabelEncoder, StandardScaler\n",
    "from sklearn.model_selection import train_test_split\n",
    "from sklearn.metrics import classification_report\n",
    "from keras.models import Sequential\n",
    "from keras.layers import Dense, Dropout\n",
    "from tensorflow.keras.optimizers import Adam\n",
    "from keras.callbacks import ReduceLROnPlateau"
   ]
  },
  {
   "cell_type": "code",
   "execution_count": 3,
   "id": "3b172293",
   "metadata": {},
   "outputs": [],
   "source": [
    "# Read the dataset\n",
    "data = pd.read_csv('output_theia.csv')\n",
    "\n",
    "# Encode categorical columns using LabelEncoder\n",
    "categorical_columns = ['Source UUID', 'Source type', 'Destination UUID', 'Destination type', 'Edge type']\n",
    "encoder = LabelEncoder()\n",
    "\n",
    "for col in categorical_columns:\n",
    "    data[col] = encoder.fit_transform(data[col])"
   ]
  },
  {
   "cell_type": "code",
   "execution_count": 4,
   "id": "f750f372",
   "metadata": {},
   "outputs": [],
   "source": [
    "from imblearn.over_sampling import RandomOverSampler"
   ]
  },
  {
   "cell_type": "code",
   "execution_count": 5,
   "id": "00e9649d",
   "metadata": {},
   "outputs": [],
   "source": [
    "# Split the dataset into features (X) and target (y)\n",
    "X = data.iloc[:, :-1].values\n",
    "y = data.iloc[:, -1].values\n",
    "\n",
    "oversampler = RandomOverSampler(sampling_strategy='minority')\n",
    "X, y = oversampler.fit_resample(X, y)\n",
    "\n",
    "# Normalize the input features\n",
    "scaler = StandardScaler()\n",
    "X = scaler.fit_transform(X)\n",
    "\n",
    "# Encode the target variable (Label)\n",
    "y = LabelEncoder().fit_transform(y)\n",
    "\n",
    "# Split the data into training and testing sets\n",
    "X_train, X_test, y_train, y_test = train_test_split(X, y, test_size=0.4, random_state=42)\n"
   ]
  },
  {
   "cell_type": "code",
   "execution_count": 6,
   "id": "745fb735",
   "metadata": {},
   "outputs": [],
   "source": [
    "from sklearn.utils.class_weight import compute_sample_weight\n",
    "import numpy as np\n",
    "# Calculate class weights\n",
    "sample_weights = compute_sample_weight(class_weight='balanced', y=y_train)\n"
   ]
  },
  {
   "cell_type": "code",
   "execution_count": 7,
   "id": "8b2b34c5",
   "metadata": {},
   "outputs": [],
   "source": [
    "# Create a neural network model\n",
    "def create_model():\n",
    "    model = Sequential()\n",
    "    model.add(Dense(128, activation='relu', input_dim=X_train.shape[1]))\n",
    "    model.add(Dropout(0.2))\n",
    "    model.add(Dense(64, activation='relu'))\n",
    "    model.add(Dropout(0.2))\n",
    "    model.add(Dense(32, activation='relu'))\n",
    "    model.add(Dense(1, activation='sigmoid'))\n",
    "    return model\n",
    "\n",
    "# Compile the model with a learning rate of 0.001\n",
    "optimizer = Adam(learning_rate=0.0001)\n"
   ]
  },
  {
   "cell_type": "code",
   "execution_count": null,
   "id": "7e144002",
   "metadata": {},
   "outputs": [],
   "source": [
    "# Number of clients\n",
    "num_clients = 5\n",
    "client_models = [create_model() for _ in range(num_clients)]\n",
    "\n",
    "for model in client_models:\n",
    "    model.compile(optimizer=optimizer, loss='binary_crossentropy', metrics=['accuracy'])\n",
    "\n",
    "# Train the model\n",
    "reduce_lr = ReduceLROnPlateau(monitor='val_loss', factor=0.1, patience=2, verbose=1, min_lr=1e-6)\n",
    "history = model.fit(X_train, y_train, epochs=30, batch_size=64, verbose=1, validation_split=0.1, callbacks=[reduce_lr], sample_weight=sample_weights)\n",
    "# Number of rounds\n",
    "num_rounds = 3\n",
    "epochs_per_round = 3"
   ]
  },
  {
   "cell_type": "code",
   "execution_count": null,
   "id": "50ba1e9a",
   "metadata": {},
   "outputs": [],
   "source": [
    "for r in range(num_rounds):\n",
    "    print(f\"Round {r + 1}/{num_rounds}\")\n",
    "    for i, model in enumerate(client_models):\n",
    "        print(f\"Training client {i + 1}/{num_clients}\")\n",
    "        model.fit(X_train, y_train, epochs=epochs_per_round, batch_size=64, verbose=1, validation_split=0.1, callbacks=[reduce_lr])\n",
    "\n",
    "    # Average the clients' model weights\n",
    "    avg_weights = [client_models[0].get_weights()]\n",
    "    for i in range(1, num_clients):\n",
    "        weights = client_models[i].get_weights()\n",
    "        for j in range(len(weights)):\n",
    "            avg_weights[0][j] += weights[j]\n",
    "    for j in range(len(avg_weights[0])):\n",
    "        avg_weights[0][j] /= num_clients\n",
    "\n",
    "    # Set the new average weights to all client models\n",
    "    for model in client_models:\n",
    "        model.set_weights(avg_weights[0])\n"
   ]
  },
  {
   "cell_type": "code",
   "execution_count": null,
   "id": "07b04032",
   "metadata": {},
   "outputs": [],
   "source": [
    "import numpy as np\n",
    "\n",
    "# Evaluate the global model\n",
    "global_model = create_model()\n",
    "global_model.compile(optimizer=optimizer, loss='binary_crossentropy', metrics=['accuracy'])\n",
    "global_model.set_weights(avg_weights[0])\n",
    "_, accuracy = global_model.evaluate(X_test, y_test)\n",
    "print(f\"Global model accuracy: {accuracy * 100:.2f}%\")\n",
    "\n",
    "# Get predictions\n",
    "y_pred_probs = global_model.predict(X_test)\n",
    "y_pred = (y_pred_probs > 0.5).astype(int).reshape(-1)\n",
    "\n",
    "# Calculate precision, recall, and F1-score\n",
    "precision = precision_score(y_test, y_pred)\n",
    "recall = recall_score(y_test, y_pred)\n",
    "f1 = f1_score(y_test, y_pred)\n",
    "\n",
    "print(f\"Precision: {precision:.2f}\")\n",
    "print(f\"Recall: {recall:.2f}\")\n",
    "print(f\"F1-score: {f1:.2f}\")"
   ]
  }
 ],
 "metadata": {
  "kernelspec": {
   "display_name": "Python 3 (ipykernel)",
   "language": "python",
   "name": "python3"
  },
  "language_info": {
   "codemirror_mode": {
    "name": "ipython",
    "version": 3
   },
   "file_extension": ".py",
   "mimetype": "text/x-python",
   "name": "python",
   "nbconvert_exporter": "python",
   "pygments_lexer": "ipython3",
   "version": "3.9.12"
  }
 },
 "nbformat": 4,
 "nbformat_minor": 5
}
