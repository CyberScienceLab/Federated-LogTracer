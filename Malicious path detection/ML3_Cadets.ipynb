{
 "cells": [
  {
   "cell_type": "code",
   "execution_count": 1,
   "id": "d4634ef6",
   "metadata": {},
   "outputs": [],
   "source": [
    "import pandas as pd\n",
    "import numpy as np\n",
    "from sklearn.model_selection import train_test_split\n",
    "from sklearn.preprocessing import LabelEncoder\n",
    "from tensorflow.keras.models import Sequential\n",
    "from tensorflow.keras.layers import Dense, Dropout\n",
    "from tensorflow.keras.optimizers import Adam\n",
    "from tensorflow.keras.callbacks import ReduceLROnPlateau\n",
    "from sklearn.preprocessing import StandardScaler\n"
   ]
  },
  {
   "cell_type": "code",
   "execution_count": 2,
   "id": "d524f0c8",
   "metadata": {},
   "outputs": [],
   "source": [
    "# Read the dataset\n",
    "data = pd.read_csv('output_Cadets.csv')\n",
    "\n",
    "# Encode categorical columns using LabelEncoder\n",
    "categorical_columns = ['Source UUID', 'Source type', 'Destination UUID', 'Destination type', 'Edge type']\n",
    "encoder = LabelEncoder()\n",
    "\n",
    "for col in categorical_columns:\n",
    "    data[col] = encoder.fit_transform(data[col])\n",
    "\n",
    "# Split the dataset into features (X) and target (y)\n",
    "X = data.iloc[:, :-1].values\n",
    "y = data.iloc[:, -1].values\n",
    "\n",
    "# Normalize the input features\n",
    "scaler = StandardScaler()\n",
    "X = scaler.fit_transform(X)\n",
    "\n",
    "# Encode the target variable (Label)\n",
    "y = LabelEncoder().fit_transform(y)\n",
    "\n",
    "# Split the data into training and testing sets\n",
    "X_train, X_test, y_train, y_test = train_test_split(X, y, test_size=0.2, random_state=42)\n"
   ]
  },
  {
   "cell_type": "code",
   "execution_count": 3,
   "id": "34c56ed4",
   "metadata": {},
   "outputs": [],
   "source": [
    "# Create a neural network model\n",
    "model = Sequential()\n",
    "model.add(Dense(128, activation='relu', input_dim=X_train.shape[1]))\n",
    "model.add(Dropout(0.2))\n",
    "model.add(Dense(64, activation='relu'))\n",
    "model.add(Dropout(0.2))\n",
    "model.add(Dense(32, activation='relu'))\n",
    "model.add(Dense(1, activation='sigmoid'))"
   ]
  },
  {
   "cell_type": "code",
   "execution_count": null,
   "id": "60c3e7c3",
   "metadata": {},
   "outputs": [
    {
     "name": "stdout",
     "output_type": "stream",
     "text": [
      "Epoch 1/30\n",
      "97466/97466 [==============================] - 239s 2ms/step - loss: 0.1093 - accuracy: 0.9485 - val_loss: 0.0776 - val_accuracy: 0.9617\n",
      "Epoch 2/30\n",
      "97466/97466 [==============================] - 257s 3ms/step - loss: 0.0867 - accuracy: 0.9588 - val_loss: 0.0657 - val_accuracy: 0.9700\n",
      "Epoch 3/30\n",
      "97466/97466 [==============================] - 227s 2ms/step - loss: 0.0766 - accuracy: 0.9631 - val_loss: 0.0617 - val_accuracy: 0.9760\n",
      "Epoch 4/30\n",
      "97466/97466 [==============================] - 207s 2ms/step - loss: 0.0716 - accuracy: 0.9667 - val_loss: 0.0551 - val_accuracy: 0.9767\n",
      "Epoch 5/30\n",
      "97466/97466 [==============================] - 193s 2ms/step - loss: 0.0655 - accuracy: 0.9726 - val_loss: 0.0562 - val_accuracy: 0.9787\n",
      "Epoch 6/30\n",
      "97466/97466 [==============================] - 206s 2ms/step - loss: 0.0672 - accuracy: 0.9689 - val_loss: 0.0475 - val_accuracy: 0.9752\n",
      "Epoch 7/30\n",
      "97466/97466 [==============================] - 206s 2ms/step - loss: 0.0588 - accuracy: 0.9764 - val_loss: 0.0383 - val_accuracy: 0.9873\n",
      "Epoch 8/30\n",
      "97466/97466 [==============================] - 211s 2ms/step - loss: 0.0539 - accuracy: 0.9797 - val_loss: 0.0512 - val_accuracy: 0.9730\n",
      "Epoch 9/30\n",
      "97466/97466 [==============================] - 221s 2ms/step - loss: 0.0510 - accuracy: 0.9818 - val_loss: 0.0448 - val_accuracy: 0.9850\n",
      "\n",
      "Epoch 00009: ReduceLROnPlateau reducing learning rate to 0.00010000000474974513.\n",
      "Epoch 10/30\n",
      "97466/97466 [==============================] - 220s 2ms/step - loss: 0.0345 - accuracy: 0.9892 - val_loss: 0.0278 - val_accuracy: 0.9912\n",
      "Epoch 11/30\n",
      "97466/97466 [==============================] - 223s 2ms/step - loss: 0.0324 - accuracy: 0.9901 - val_loss: 0.0262 - val_accuracy: 0.9944\n",
      "Epoch 12/30\n",
      "97466/97466 [==============================] - 240s 2ms/step - loss: 0.0305 - accuracy: 0.9906 - val_loss: 0.0296 - val_accuracy: 0.9805\n",
      "Epoch 13/30\n",
      "97466/97466 [==============================] - 226s 2ms/step - loss: 0.0297 - accuracy: 0.9908 - val_loss: 0.0285 - val_accuracy: 0.9916\n",
      "\n",
      "Epoch 00013: ReduceLROnPlateau reducing learning rate to 1.0000000474974514e-05.\n",
      "Epoch 14/30\n",
      "97466/97466 [==============================] - 225s 2ms/step - loss: 0.0285 - accuracy: 0.9914 - val_loss: 0.0261 - val_accuracy: 0.9944\n",
      "Epoch 15/30\n",
      "97466/97466 [==============================] - 239s 2ms/step - loss: 0.0278 - accuracy: 0.9915 - val_loss: 0.0260 - val_accuracy: 0.9936\n",
      "Epoch 16/30\n",
      "97466/97466 [==============================] - 233s 2ms/step - loss: 0.0282 - accuracy: 0.9916 - val_loss: 0.0263 - val_accuracy: 0.9928\n",
      "\n",
      "Epoch 00016: ReduceLROnPlateau reducing learning rate to 1.0000000656873453e-06.\n",
      "Epoch 17/30\n",
      "97466/97466 [==============================] - 242s 2ms/step - loss: 0.0274 - accuracy: 0.9916 - val_loss: 0.0262 - val_accuracy: 0.9934\n",
      "Epoch 18/30\n",
      "97466/97466 [==============================] - 233s 2ms/step - loss: 0.0278 - accuracy: 0.9917 - val_loss: 0.0261 - val_accuracy: 0.9942\n",
      "\n",
      "Epoch 00018: ReduceLROnPlateau reducing learning rate to 1e-06.\n",
      "Epoch 19/30\n",
      "97466/97466 [==============================] - 231s 2ms/step - loss: 0.0271 - accuracy: 0.9917 - val_loss: 0.0263 - val_accuracy: 0.9943\n",
      "Epoch 20/30\n",
      "97466/97466 [==============================] - 230s 2ms/step - loss: 0.0274 - accuracy: 0.9917 - val_loss: 0.0264 - val_accuracy: 0.9935\n",
      "Epoch 21/30\n",
      "97466/97466 [==============================] - 233s 2ms/step - loss: 0.0280 - accuracy: 0.9917 - val_loss: 0.0263 - val_accuracy: 0.9931\n",
      "Epoch 22/30\n",
      "97466/97466 [==============================] - 225s 2ms/step - loss: 0.0275 - accuracy: 0.9917 - val_loss: 0.0263 - val_accuracy: 0.9935\n",
      "Epoch 23/30\n",
      "97466/97466 [==============================] - 240s 2ms/step - loss: 0.0272 - accuracy: 0.9917 - val_loss: 0.0262 - val_accuracy: 0.9935\n",
      "Epoch 24/30\n",
      "97466/97466 [==============================] - 225s 2ms/step - loss: 0.0280 - accuracy: 0.9917 - val_loss: 0.0265 - val_accuracy: 0.9931\n",
      "Epoch 25/30\n",
      "97466/97466 [==============================] - 226s 2ms/step - loss: 0.0274 - accuracy: 0.9917 - val_loss: 0.0259 - val_accuracy: 0.9942\n",
      "Epoch 26/30\n",
      "97466/97466 [==============================] - 221s 2ms/step - loss: 0.0274 - accuracy: 0.9917 - val_loss: 0.0263 - val_accuracy: 0.9930\n",
      "Epoch 27/30\n",
      "97466/97466 [==============================] - 220s 2ms/step - loss: 0.0271 - accuracy: 0.9917 - val_loss: 0.0259 - val_accuracy: 0.9936\n",
      "Epoch 28/30\n",
      "97466/97466 [==============================] - 220s 2ms/step - loss: 0.0276 - accuracy: 0.9917 - val_loss: 0.0262 - val_accuracy: 0.9933\n",
      "Epoch 29/30\n",
      "97466/97466 [==============================] - 221s 2ms/step - loss: 0.0272 - accuracy: 0.9917 - val_loss: 0.0260 - val_accuracy: 0.9941\n",
      "Epoch 30/30\n",
      " 1473/97466 [..............................] - ETA: 3:26 - loss: 0.0277 - accuracy: 0.9917"
     ]
    }
   ],
   "source": [
    "# Compile the model with a learning rate of 0.001\n",
    "optimizer = Adam(learning_rate=0.001)\n",
    "model.compile(optimizer=optimizer, loss='binary_crossentropy', metrics=['accuracy'])\n",
    "\n",
    "# Train the model\n",
    "reduce_lr = ReduceLROnPlateau(monitor='val_loss', factor=0.1, patience=2, verbose=1, min_lr=1e-6)\n",
    "history = model.fit(X_train, y_train, epochs=30, batch_size=64, verbose=1, validation_split=0.1, callbacks=[reduce_lr])\n"
   ]
  },
  {
   "cell_type": "code",
   "execution_count": null,
   "id": "90362caf",
   "metadata": {},
   "outputs": [],
   "source": [
    "# Evaluate the model\n",
    "_, accuracy = model.evaluate(X_test, y_test)\n",
    "print('Accuracy:', accuracy)\n",
    "\n",
    "# Make predictions\n",
    "y_pred = (model.predict(X_test) > 0.5).astype(\"int32\")\n",
    "\n",
    "# Decode the predictions to 'Attack' or 'Normal'\n",
    "y_pred = LabelEncoder().fit(['Attack', 'Normal']).inverse_transform(y_pred.ravel())"
   ]
  },
  {
   "cell_type": "code",
   "execution_count": null,
   "id": "d79d9571",
   "metadata": {},
   "outputs": [],
   "source": []
  },
  {
   "cell_type": "code",
   "execution_count": null,
   "id": "f056e829",
   "metadata": {},
   "outputs": [],
   "source": []
  },
  {
   "cell_type": "code",
   "execution_count": null,
   "id": "dbb72fa2",
   "metadata": {},
   "outputs": [],
   "source": []
  }
 ],
 "metadata": {
  "kernelspec": {
   "display_name": "log3",
   "language": "python",
   "name": "log3"
  },
  "language_info": {
   "codemirror_mode": {
    "name": "ipython",
    "version": 3
   },
   "file_extension": ".py",
   "mimetype": "text/x-python",
   "name": "python",
   "nbconvert_exporter": "python",
   "pygments_lexer": "ipython3",
   "version": "3.6.13"
  }
 },
 "nbformat": 4,
 "nbformat_minor": 5
}
