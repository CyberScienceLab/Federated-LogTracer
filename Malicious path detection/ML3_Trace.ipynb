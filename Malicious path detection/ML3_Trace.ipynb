{
 "cells": [
  {
   "cell_type": "code",
   "execution_count": 5,
   "id": "1fd4750d",
   "metadata": {},
   "outputs": [],
   "source": [
    "import pandas as pd\n",
    "import numpy as np\n",
    "from sklearn.model_selection import train_test_split\n",
    "from sklearn.preprocessing import LabelEncoder\n",
    "from tensorflow.keras.models import Sequential\n",
    "from tensorflow.keras.layers import Dense, Dropout\n",
    "from tensorflow.keras.optimizers import Adam\n",
    "from tensorflow.keras.callbacks import ReduceLROnPlateau\n",
    "from sklearn.preprocessing import StandardScaler\n"
   ]
  },
  {
   "cell_type": "code",
   "execution_count": 6,
   "id": "13feb7d7",
   "metadata": {},
   "outputs": [],
   "source": [
    "# Read the dataset\n",
    "data = pd.read_csv('output_trace.csv')\n",
    "\n",
    "# Encode categorical columns using LabelEncoder\n",
    "categorical_columns = ['Source UUID', 'Source type', 'Destination UUID', 'Destination type', 'Edge type']\n",
    "encoder = LabelEncoder()\n",
    "\n",
    "for col in categorical_columns:\n",
    "    data[col] = encoder.fit_transform(data[col])\n",
    "\n",
    "# Split the dataset into features (X) and target (y)\n",
    "X = data.iloc[:, :-1].values\n",
    "y = data.iloc[:, -1].values\n",
    "\n",
    "# Normalize the input features\n",
    "scaler = StandardScaler()\n",
    "X = scaler.fit_transform(X)\n",
    "\n",
    "# Encode the target variable (Label)\n",
    "y = LabelEncoder().fit_transform(y)\n",
    "\n",
    "# Split the data into training and testing sets\n",
    "X_train, X_test, y_train, y_test = train_test_split(X, y, test_size=0.2, random_state=42)\n"
   ]
  },
  {
   "cell_type": "code",
   "execution_count": 7,
   "id": "edd62e08",
   "metadata": {},
   "outputs": [],
   "source": [
    "# Create a neural network model\n",
    "model = Sequential()\n",
    "model.add(Dense(128, activation='relu', input_dim=X_train.shape[1]))\n",
    "model.add(Dropout(0.2))\n",
    "model.add(Dense(64, activation='relu'))\n",
    "model.add(Dropout(0.2))\n",
    "model.add(Dense(32, activation='relu'))\n",
    "model.add(Dense(1, activation='sigmoid'))"
   ]
  },
  {
   "cell_type": "code",
   "execution_count": null,
   "id": "0143e0b2",
   "metadata": {},
   "outputs": [
    {
     "name": "stdout",
     "output_type": "stream",
     "text": [
      "Epoch 1/30\n",
      "78503/78503 [==============================] - 189s 2ms/step - loss: 0.0180 - accuracy: 0.9937 - val_loss: 0.0106 - val_accuracy: 0.9961\n",
      "Epoch 2/30\n",
      "78503/78503 [==============================] - 186s 2ms/step - loss: 0.0119 - accuracy: 0.9955 - val_loss: 0.0085 - val_accuracy: 0.9965\n",
      "Epoch 3/30\n",
      "78503/78503 [==============================] - 182s 2ms/step - loss: 0.0108 - accuracy: 0.9960 - val_loss: 0.0087 - val_accuracy: 0.9968\n",
      "Epoch 4/30\n",
      "78503/78503 [==============================] - 182s 2ms/step - loss: 0.0100 - accuracy: 0.9963 - val_loss: 0.0074 - val_accuracy: 0.9974\n",
      "Epoch 5/30\n",
      "78503/78503 [==============================] - 185s 2ms/step - loss: 0.0095 - accuracy: 0.9966 - val_loss: 0.0072 - val_accuracy: 0.9974\n",
      "Epoch 6/30\n",
      "78503/78503 [==============================] - 188s 2ms/step - loss: 0.0090 - accuracy: 0.9968 - val_loss: 0.0064 - val_accuracy: 0.9979\n",
      "Epoch 7/30\n",
      "78503/78503 [==============================] - 189s 2ms/step - loss: 0.0088 - accuracy: 0.9969 - val_loss: 0.0066 - val_accuracy: 0.9978\n",
      "Epoch 8/30\n",
      "78503/78503 [==============================] - 189s 2ms/step - loss: 0.0084 - accuracy: 0.9971 - val_loss: 0.0070 - val_accuracy: 0.9975\n",
      "\n",
      "Epoch 00008: ReduceLROnPlateau reducing learning rate to 0.00010000000474974513.\n",
      "Epoch 9/30\n",
      "78503/78503 [==============================] - 191s 2ms/step - loss: 0.0061 - accuracy: 0.9981 - val_loss: 0.0048 - val_accuracy: 0.9986\n",
      "Epoch 10/30\n",
      "78503/78503 [==============================] - 187s 2ms/step - loss: 0.0056 - accuracy: 0.9983 - val_loss: 0.0047 - val_accuracy: 0.9986\n",
      "Epoch 11/30\n",
      "78503/78503 [==============================] - 188s 2ms/step - loss: 0.0054 - accuracy: 0.9983 - val_loss: 0.0045 - val_accuracy: 0.9987\n",
      "Epoch 12/30\n",
      "78503/78503 [==============================] - 188s 2ms/step - loss: 0.0053 - accuracy: 0.9984 - val_loss: 0.0043 - val_accuracy: 0.9987\n",
      "Epoch 13/30\n",
      "78503/78503 [==============================] - 187s 2ms/step - loss: 0.0052 - accuracy: 0.9984 - val_loss: 0.0044 - val_accuracy: 0.9987\n",
      "Epoch 14/30\n",
      "78503/78503 [==============================] - 182s 2ms/step - loss: 0.0051 - accuracy: 0.9985 - val_loss: 0.0043 - val_accuracy: 0.9988\n",
      "\n",
      "Epoch 00014: ReduceLROnPlateau reducing learning rate to 1.0000000474974514e-05.\n",
      "Epoch 15/30\n",
      "78503/78503 [==============================] - 187s 2ms/step - loss: 0.0050 - accuracy: 0.9986 - val_loss: 0.0042 - val_accuracy: 0.9988\n",
      "Epoch 16/30\n",
      "78503/78503 [==============================] - 183s 2ms/step - loss: 0.0048 - accuracy: 0.9986 - val_loss: 0.0042 - val_accuracy: 0.9989\n",
      "Epoch 17/30\n",
      "78503/78503 [==============================] - 179s 2ms/step - loss: 0.0048 - accuracy: 0.9986 - val_loss: 0.0042 - val_accuracy: 0.9989\n",
      "\n",
      "Epoch 00017: ReduceLROnPlateau reducing learning rate to 1.0000000656873453e-06.\n",
      "Epoch 18/30\n",
      "78503/78503 [==============================] - 187s 2ms/step - loss: 0.0048 - accuracy: 0.9986 - val_loss: 0.0042 - val_accuracy: 0.9989\n",
      "Epoch 19/30\n",
      "78503/78503 [==============================] - 178s 2ms/step - loss: 0.0048 - accuracy: 0.9986 - val_loss: 0.0042 - val_accuracy: 0.9989\n",
      "\n",
      "Epoch 00019: ReduceLROnPlateau reducing learning rate to 1e-06.\n",
      "Epoch 20/30\n",
      "78503/78503 [==============================] - 179s 2ms/step - loss: 0.0048 - accuracy: 0.9986 - val_loss: 0.0042 - val_accuracy: 0.9989\n",
      "Epoch 21/30\n",
      "78503/78503 [==============================] - 178s 2ms/step - loss: 0.0047 - accuracy: 0.9986 - val_loss: 0.0042 - val_accuracy: 0.9989\n",
      "Epoch 22/30\n",
      "78503/78503 [==============================] - 178s 2ms/step - loss: 0.0047 - accuracy: 0.9987 - val_loss: 0.0041 - val_accuracy: 0.9989\n",
      "Epoch 23/30\n",
      "42608/78503 [===============>..............] - ETA: 1:17 - loss: 0.0048 - accuracy: 0.9986"
     ]
    }
   ],
   "source": [
    "# Compile the model with a learning rate of 0.001\n",
    "optimizer = Adam(learning_rate=0.001)\n",
    "model.compile(optimizer=optimizer, loss='binary_crossentropy', metrics=['accuracy'])\n",
    "\n",
    "# Train the model\n",
    "reduce_lr = ReduceLROnPlateau(monitor='val_loss', factor=0.1, patience=2, verbose=1, min_lr=1e-6)\n",
    "history = model.fit(X_train, y_train, epochs=30, batch_size=64, verbose=1, validation_split=0.1, callbacks=[reduce_lr])\n"
   ]
  },
  {
   "cell_type": "code",
   "execution_count": null,
   "id": "8c72d3d4",
   "metadata": {},
   "outputs": [],
   "source": [
    "# Evaluate the model\n",
    "_, accuracy = model.evaluate(X_test, y_test)\n",
    "print('Accuracy:', accuracy)\n",
    "\n",
    "# Make predictions\n",
    "y_pred = (model.predict(X_test) > 0.5).astype(\"int32\")\n",
    "\n",
    "# Decode the predictions to 'Attack' or 'Normal'\n",
    "y_pred = LabelEncoder().fit(['Attack', 'Normal']).inverse_transform(y_pred.ravel())"
   ]
  },
  {
   "cell_type": "code",
   "execution_count": null,
   "id": "20be8a28",
   "metadata": {},
   "outputs": [],
   "source": [
    "from sklearn.metrics import accuracy_score, recall_score, precision_score, f1_score\n"
   ]
  },
  {
   "cell_type": "code",
   "execution_count": null,
   "id": "6add5fc2",
   "metadata": {},
   "outputs": [],
   "source": [
    "print(accuracy_score(y_test, y_pred))\n",
    "print(recall_score(y_test, y_pred))\n",
    "print(precision_score(y_test, y_pred))\n",
    "print(f1_score(y_test, y_pred))"
   ]
  },
  {
   "cell_type": "code",
   "execution_count": null,
   "id": "164b91ed",
   "metadata": {},
   "outputs": [],
   "source": []
  }
 ],
 "metadata": {
  "kernelspec": {
   "display_name": "log3",
   "language": "python",
   "name": "log3"
  },
  "language_info": {
   "codemirror_mode": {
    "name": "ipython",
    "version": 3
   },
   "file_extension": ".py",
   "mimetype": "text/x-python",
   "name": "python",
   "nbconvert_exporter": "python",
   "pygments_lexer": "ipython3",
   "version": "3.6.13"
  }
 },
 "nbformat": 4,
 "nbformat_minor": 5
}
