{
 "cells": [
  {
   "cell_type": "code",
   "execution_count": 1,
   "id": "1afb34e6",
   "metadata": {},
   "outputs": [],
   "source": [
    "import pandas as pd\n",
    "import numpy as np\n",
    "from sklearn.model_selection import train_test_split\n",
    "from sklearn.preprocessing import LabelEncoder\n",
    "from tensorflow.keras.models import Sequential\n",
    "from tensorflow.keras.layers import Dense, Dropout\n",
    "from tensorflow.keras.optimizers import Adam\n",
    "from tensorflow.keras.callbacks import ReduceLROnPlateau\n",
    "from sklearn.preprocessing import StandardScaler\n"
   ]
  },
  {
   "cell_type": "code",
   "execution_count": 2,
   "id": "6bdb4f6e",
   "metadata": {},
   "outputs": [],
   "source": [
    "# Read the dataset\n",
    "data = pd.read_csv('output_fivedirections.csv')\n",
    "\n",
    "# Encode categorical columns using LabelEncoder\n",
    "categorical_columns = ['Source UUID', 'Source type', 'Destination UUID', 'Destination type', 'Edge type']\n",
    "encoder = LabelEncoder()\n",
    "\n",
    "for col in categorical_columns:\n",
    "    data[col] = encoder.fit_transform(data[col])\n",
    "\n",
    "# Split the dataset into features (X) and target (y)\n",
    "X = data.iloc[:, :-1].values\n",
    "y = data.iloc[:, -1].values\n",
    "\n",
    "# Normalize the input features\n",
    "scaler = StandardScaler()\n",
    "X = scaler.fit_transform(X)\n",
    "\n",
    "# Encode the target variable (Label)\n",
    "y = LabelEncoder().fit_transform(y)\n",
    "\n",
    "# Split the data into training and testing sets\n",
    "X_train, X_test, y_train, y_test = train_test_split(X, y, test_size=0.2, random_state=42)\n"
   ]
  },
  {
   "cell_type": "code",
   "execution_count": 3,
   "id": "0fb9ccd0",
   "metadata": {},
   "outputs": [],
   "source": [
    "# Create a neural network model\n",
    "model = Sequential()\n",
    "model.add(Dense(128, activation='relu', input_dim=X_train.shape[1]))\n",
    "model.add(Dropout(0.2))\n",
    "model.add(Dense(64, activation='relu'))\n",
    "model.add(Dropout(0.2))\n",
    "model.add(Dense(32, activation='relu'))\n",
    "model.add(Dense(1, activation='sigmoid'))"
   ]
  },
  {
   "cell_type": "code",
   "execution_count": 4,
   "id": "13a121b7",
   "metadata": {},
   "outputs": [
    {
     "name": "stdout",
     "output_type": "stream",
     "text": [
      "Epoch 1/30\n",
      "110841/110841 [==============================] - 270s 2ms/step - loss: 0.1443 - accuracy: 0.9425 - val_loss: 0.0922 - val_accuracy: 0.9654\n",
      "Epoch 2/30\n",
      "110841/110841 [==============================] - 270s 2ms/step - loss: 0.1074 - accuracy: 0.9598 - val_loss: 0.0859 - val_accuracy: 0.9700\n",
      "Epoch 3/30\n",
      "110841/110841 [==============================] - 265s 2ms/step - loss: 0.1001 - accuracy: 0.9631 - val_loss: 0.0804 - val_accuracy: 0.9713\n",
      "Epoch 4/30\n",
      "110841/110841 [==============================] - 270s 2ms/step - loss: 0.0960 - accuracy: 0.9649 - val_loss: 0.0801 - val_accuracy: 0.9716\n",
      "Epoch 5/30\n",
      "110841/110841 [==============================] - 260s 2ms/step - loss: 0.0932 - accuracy: 0.9661 - val_loss: 0.0754 - val_accuracy: 0.9731\n",
      "Epoch 6/30\n",
      "110841/110841 [==============================] - 258s 2ms/step - loss: 0.0913 - accuracy: 0.9668 - val_loss: 0.0742 - val_accuracy: 0.9732\n",
      "Epoch 7/30\n",
      "110841/110841 [==============================] - 270s 2ms/step - loss: 0.0895 - accuracy: 0.9674 - val_loss: 0.0750 - val_accuracy: 0.9727\n",
      "Epoch 8/30\n",
      "110841/110841 [==============================] - 265s 2ms/step - loss: 0.0885 - accuracy: 0.9679 - val_loss: 0.0735 - val_accuracy: 0.9743\n",
      "Epoch 9/30\n",
      "110841/110841 [==============================] - 274s 2ms/step - loss: 0.0872 - accuracy: 0.9683 - val_loss: 0.0727 - val_accuracy: 0.9734\n",
      "Epoch 10/30\n",
      "110841/110841 [==============================] - 290s 3ms/step - loss: 0.0866 - accuracy: 0.9686 - val_loss: 0.0717 - val_accuracy: 0.9750\n",
      "Epoch 11/30\n",
      "110841/110841 [==============================] - 245s 2ms/step - loss: 0.0859 - accuracy: 0.9690 - val_loss: 0.0734 - val_accuracy: 0.9748\n",
      "Epoch 12/30\n",
      "110841/110841 [==============================] - 226s 2ms/step - loss: 0.0854 - accuracy: 0.9692 - val_loss: 0.0718 - val_accuracy: 0.9737\n",
      "\n",
      "Epoch 00012: ReduceLROnPlateau reducing learning rate to 0.00010000000474974513.\n",
      "Epoch 13/30\n",
      "110841/110841 [==============================] - 232s 2ms/step - loss: 0.0701 - accuracy: 0.9755 - val_loss: 0.0570 - val_accuracy: 0.9795\n",
      "Epoch 14/30\n",
      "110841/110841 [==============================] - 235s 2ms/step - loss: 0.0667 - accuracy: 0.9767 - val_loss: 0.0557 - val_accuracy: 0.9803\n",
      "Epoch 15/30\n",
      "110841/110841 [==============================] - 249s 2ms/step - loss: 0.0657 - accuracy: 0.9771 - val_loss: 0.0544 - val_accuracy: 0.9804\n",
      "Epoch 16/30\n",
      "110841/110841 [==============================] - 252s 2ms/step - loss: 0.0649 - accuracy: 0.9774 - val_loss: 0.0539 - val_accuracy: 0.9808\n",
      "Epoch 17/30\n",
      "110841/110841 [==============================] - 251s 2ms/step - loss: 0.0645 - accuracy: 0.9775 - val_loss: 0.0537 - val_accuracy: 0.9810\n",
      "Epoch 18/30\n",
      "110841/110841 [==============================] - 260s 2ms/step - loss: 0.0641 - accuracy: 0.9776 - val_loss: 0.0541 - val_accuracy: 0.9809\n",
      "Epoch 19/30\n",
      "110841/110841 [==============================] - 261s 2ms/step - loss: 0.0636 - accuracy: 0.9778 - val_loss: 0.0539 - val_accuracy: 0.9807\n",
      "\n",
      "Epoch 00019: ReduceLROnPlateau reducing learning rate to 1.0000000474974514e-05.\n",
      "Epoch 20/30\n",
      "110841/110841 [==============================] - 256s 2ms/step - loss: 0.0621 - accuracy: 0.9785 - val_loss: 0.0526 - val_accuracy: 0.9811\n",
      "Epoch 21/30\n",
      "110841/110841 [==============================] - 259s 2ms/step - loss: 0.0619 - accuracy: 0.9786 - val_loss: 0.0523 - val_accuracy: 0.9811\n",
      "Epoch 22/30\n",
      "110841/110841 [==============================] - 274s 2ms/step - loss: 0.0618 - accuracy: 0.9786 - val_loss: 0.0524 - val_accuracy: 0.9810\n",
      "Epoch 23/30\n",
      "110841/110841 [==============================] - 273s 2ms/step - loss: 0.0618 - accuracy: 0.9786 - val_loss: 0.0523 - val_accuracy: 0.9810\n",
      "\n",
      "Epoch 00023: ReduceLROnPlateau reducing learning rate to 1.0000000656873453e-06.\n",
      "Epoch 24/30\n",
      "110841/110841 [==============================] - 266s 2ms/step - loss: 0.0614 - accuracy: 0.9788 - val_loss: 0.0522 - val_accuracy: 0.9810\n",
      "Epoch 25/30\n",
      "110841/110841 [==============================] - 272s 2ms/step - loss: 0.0615 - accuracy: 0.9787 - val_loss: 0.0521 - val_accuracy: 0.9810\n",
      "Epoch 26/30\n",
      "110841/110841 [==============================] - 266s 2ms/step - loss: 0.0615 - accuracy: 0.9788 - val_loss: 0.0521 - val_accuracy: 0.9810\n",
      "\n",
      "Epoch 00026: ReduceLROnPlateau reducing learning rate to 1e-06.\n",
      "Epoch 27/30\n",
      "110841/110841 [==============================] - 258s 2ms/step - loss: 0.0616 - accuracy: 0.9787 - val_loss: 0.0521 - val_accuracy: 0.9810\n",
      "Epoch 28/30\n",
      "110841/110841 [==============================] - 262s 2ms/step - loss: 0.0615 - accuracy: 0.9788 - val_loss: 0.0521 - val_accuracy: 0.9810\n",
      "Epoch 29/30\n",
      "110841/110841 [==============================] - 257s 2ms/step - loss: 0.0614 - accuracy: 0.9788 - val_loss: 0.0521 - val_accuracy: 0.9810\n",
      "Epoch 30/30\n",
      "110841/110841 [==============================] - 258s 2ms/step - loss: 0.0614 - accuracy: 0.9788 - val_loss: 0.0521 - val_accuracy: 0.9809\n"
     ]
    }
   ],
   "source": [
    "# Compile the model with a learning rate of 0.001\n",
    "optimizer = Adam(learning_rate=0.001)\n",
    "model.compile(optimizer=optimizer, loss='binary_crossentropy', metrics=['accuracy'])\n",
    "\n",
    "# Train the model\n",
    "reduce_lr = ReduceLROnPlateau(monitor='val_loss', factor=0.1, patience=2, verbose=1, min_lr=1e-6)\n",
    "history = model.fit(X_train, y_train, epochs=30, batch_size=64, verbose=1, validation_split=0.1, callbacks=[reduce_lr])\n"
   ]
  },
  {
   "cell_type": "code",
   "execution_count": null,
   "id": "1f994c69",
   "metadata": {},
   "outputs": [],
   "source": [
    "# Evaluate the model\n",
    "_, accuracy = model.evaluate(X_test, y_test)\n",
    "print('Accuracy:', accuracy)\n",
    "\n",
    "# Make predictions\n",
    "y_pred = (model.predict(X_test) > 0.5).astype(\"int32\")\n",
    "\n",
    "# Decode the predictions to 'Attack' or 'Normal'\n",
    "y_pred = LabelEncoder().fit(['Attack', 'Normal']).inverse_transform(y_pred.ravel())"
   ]
  },
  {
   "cell_type": "code",
   "execution_count": null,
   "id": "283cf406",
   "metadata": {},
   "outputs": [],
   "source": [
    "print(accuracy_score(y_test, y_pred))\n",
    "print(recall_score(y_test, y_pred))\n",
    "print(precision_score(y_test, y_pred))\n",
    "print(f1_score(y_test, y_pred))"
   ]
  },
  {
   "cell_type": "code",
   "execution_count": null,
   "id": "26598432",
   "metadata": {},
   "outputs": [],
   "source": []
  },
  {
   "cell_type": "code",
   "execution_count": null,
   "id": "fcdf07cf",
   "metadata": {},
   "outputs": [],
   "source": []
  },
  {
   "cell_type": "code",
   "execution_count": null,
   "id": "30d048b3",
   "metadata": {},
   "outputs": [],
   "source": []
  }
 ],
 "metadata": {
  "kernelspec": {
   "display_name": "log3",
   "language": "python",
   "name": "log3"
  },
  "language_info": {
   "codemirror_mode": {
    "name": "ipython",
    "version": 3
   },
   "file_extension": ".py",
   "mimetype": "text/x-python",
   "name": "python",
   "nbconvert_exporter": "python",
   "pygments_lexer": "ipython3",
   "version": "3.6.13"
  }
 },
 "nbformat": 4,
 "nbformat_minor": 5
}
