{
 "cells": [
  {
   "cell_type": "code",
   "execution_count": 1,
   "id": "76b43ea3",
   "metadata": {},
   "outputs": [],
   "source": [
    "import pandas as pd\n",
    "import numpy as np\n",
    "from sklearn.model_selection import train_test_split\n",
    "from sklearn.preprocessing import LabelEncoder\n",
    "from tensorflow.keras.models import Sequential\n",
    "from tensorflow.keras.layers import Dense, Dropout\n",
    "from tensorflow.keras.optimizers import Adam\n",
    "from tensorflow.keras.callbacks import ReduceLROnPlateau\n",
    "from sklearn.preprocessing import StandardScaler\n"
   ]
  },
  {
   "cell_type": "code",
   "execution_count": 2,
   "id": "797ec8bb",
   "metadata": {},
   "outputs": [],
   "source": [
    "# Read the dataset\n",
    "data = pd.read_csv('output_theia.csv')\n",
    "\n",
    "# Encode categorical columns using LabelEncoder\n",
    "categorical_columns = ['Source UUID', 'Source type', 'Destination UUID', 'Destination type', 'Edge type']\n",
    "encoder = LabelEncoder()\n",
    "\n",
    "for col in categorical_columns:\n",
    "    data[col] = encoder.fit_transform(data[col])\n",
    "\n",
    "# Split the dataset into features (X) and target (y)\n",
    "X = data.iloc[:, :-1].values\n",
    "y = data.iloc[:, -1].values\n",
    "\n",
    "# Normalize the input features\n",
    "scaler = StandardScaler()\n",
    "X = scaler.fit_transform(X)\n",
    "\n",
    "# Encode the target variable (Label)\n",
    "y = LabelEncoder().fit_transform(y)\n",
    "\n",
    "# Split the data into training and testing sets\n",
    "X_train, X_test, y_train, y_test = train_test_split(X, y, test_size=0.2, random_state=42)\n"
   ]
  },
  {
   "cell_type": "code",
   "execution_count": 3,
   "id": "7c953b30",
   "metadata": {},
   "outputs": [],
   "source": [
    "# Create a neural network model\n",
    "model = Sequential()\n",
    "model.add(Dense(128, activation='relu', input_dim=X_train.shape[1]))\n",
    "model.add(Dropout(0.2))\n",
    "model.add(Dense(64, activation='relu'))\n",
    "model.add(Dropout(0.2))\n",
    "model.add(Dense(32, activation='relu'))\n",
    "model.add(Dense(1, activation='sigmoid'))"
   ]
  },
  {
   "cell_type": "code",
   "execution_count": null,
   "id": "0aed23a6",
   "metadata": {},
   "outputs": [
    {
     "name": "stdout",
     "output_type": "stream",
     "text": [
      "Epoch 1/30\n",
      "211673/211673 [==============================] - 517s 2ms/step - loss: 0.0037 - accuracy: 0.9990 - val_loss: 0.0029 - val_accuracy: 0.9993\n",
      "Epoch 2/30\n",
      "211673/211673 [==============================] - 533s 3ms/step - loss: 0.0032 - accuracy: 0.9992 - val_loss: 0.0027 - val_accuracy: 0.9993\n",
      "Epoch 3/30\n",
      "211673/211673 [==============================] - 505s 2ms/step - loss: 0.0032 - accuracy: 0.9992 - val_loss: 0.0032 - val_accuracy: 0.9994\n",
      "Epoch 4/30\n",
      "211673/211673 [==============================] - 522s 2ms/step - loss: 0.0032 - accuracy: 0.9993 - val_loss: 0.0028 - val_accuracy: 0.9993\n",
      "\n",
      "Epoch 00004: ReduceLROnPlateau reducing learning rate to 0.00010000000474974513.\n",
      "Epoch 5/30\n",
      "211673/211673 [==============================] - 530s 3ms/step - loss: 0.0025 - accuracy: 0.9994 - val_loss: 0.0023 - val_accuracy: 0.9994\n",
      "Epoch 6/30\n",
      "211673/211673 [==============================] - 511s 2ms/step - loss: 0.0024 - accuracy: 0.9994 - val_loss: 0.0022 - val_accuracy: 0.9994\n",
      "Epoch 7/30\n",
      "211673/211673 [==============================] - 443s 2ms/step - loss: 0.0024 - accuracy: 0.9994 - val_loss: 0.0022 - val_accuracy: 0.9994\n",
      "\n",
      "Epoch 00007: ReduceLROnPlateau reducing learning rate to 1.0000000474974514e-05.\n",
      "Epoch 8/30\n",
      "211673/211673 [==============================] - 456s 2ms/step - loss: 0.0023 - accuracy: 0.9994 - val_loss: 0.0021 - val_accuracy: 0.9994\n",
      "Epoch 9/30\n",
      "211673/211673 [==============================] - 486s 2ms/step - loss: 0.0023 - accuracy: 0.9994 - val_loss: 0.0021 - val_accuracy: 0.9994\n",
      "Epoch 10/30\n",
      "211673/211673 [==============================] - 502s 2ms/step - loss: 0.0023 - accuracy: 0.9994 - val_loss: 0.0021 - val_accuracy: 0.9994\n",
      "\n",
      "Epoch 00010: ReduceLROnPlateau reducing learning rate to 1.0000000656873453e-06.\n",
      "Epoch 11/30\n",
      "211673/211673 [==============================] - 515s 2ms/step - loss: 0.0023 - accuracy: 0.9994 - val_loss: 0.0021 - val_accuracy: 0.9994\n",
      "Epoch 12/30\n",
      "211673/211673 [==============================] - 512s 2ms/step - loss: 0.0023 - accuracy: 0.9994 - val_loss: 0.0021 - val_accuracy: 0.9994\n",
      "\n",
      "Epoch 00012: ReduceLROnPlateau reducing learning rate to 1e-06.\n",
      "Epoch 13/30\n",
      "211673/211673 [==============================] - 513s 2ms/step - loss: 0.0023 - accuracy: 0.9994 - val_loss: 0.0021 - val_accuracy: 0.9994\n",
      "Epoch 14/30\n",
      "211673/211673 [==============================] - 530s 3ms/step - loss: 0.0023 - accuracy: 0.9994 - val_loss: 0.0021 - val_accuracy: 0.9994\n",
      "Epoch 15/30\n",
      "211673/211673 [==============================] - 521s 2ms/step - loss: 0.0023 - accuracy: 0.9994 - val_loss: 0.0021 - val_accuracy: 0.9994\n",
      "Epoch 16/30\n",
      "211673/211673 [==============================] - 495s 2ms/step - loss: 0.0023 - accuracy: 0.9994 - val_loss: 0.0021 - val_accuracy: 0.9994\n",
      "Epoch 17/30\n",
      "211673/211673 [==============================] - 487s 2ms/step - loss: 0.0023 - accuracy: 0.9994 - val_loss: 0.0021 - val_accuracy: 0.9994\n",
      "Epoch 18/30\n",
      "138044/211673 [==================>...........] - ETA: 2:41 - loss: 0.0023 - accuracy: 0.9994"
     ]
    }
   ],
   "source": [
    "# Compile the model with a learning rate of 0.001\n",
    "optimizer = Adam(learning_rate=0.001)\n",
    "model.compile(optimizer=optimizer, loss='binary_crossentropy', metrics=['accuracy'])\n",
    "\n",
    "# Train the model\n",
    "reduce_lr = ReduceLROnPlateau(monitor='val_loss', factor=0.1, patience=2, verbose=1, min_lr=1e-6)\n",
    "history = model.fit(X_train, y_train, epochs=30, batch_size=64, verbose=1, validation_split=0.1, callbacks=[reduce_lr])\n"
   ]
  },
  {
   "cell_type": "code",
   "execution_count": null,
   "id": "01e5a1ab",
   "metadata": {},
   "outputs": [],
   "source": [
    "# Evaluate the model\n",
    "_, accuracy = model.evaluate(X_test, y_test)\n",
    "print('Accuracy:', accuracy)\n",
    "\n",
    "# Make predictions\n",
    "y_pred = (model.predict(X_test) > 0.5).astype(\"int32\")\n",
    "\n",
    "# Decode the predictions to 'Attack' or 'Normal'\n",
    "y_pred = LabelEncoder().fit(['Attack', 'Normal']).inverse_transform(y_pred.ravel())"
   ]
  },
  {
   "cell_type": "code",
   "execution_count": null,
   "id": "95247632",
   "metadata": {},
   "outputs": [],
   "source": []
  },
  {
   "cell_type": "code",
   "execution_count": null,
   "id": "b49942f1",
   "metadata": {},
   "outputs": [],
   "source": []
  }
 ],
 "metadata": {
  "kernelspec": {
   "display_name": "log3",
   "language": "python",
   "name": "log3"
  },
  "language_info": {
   "codemirror_mode": {
    "name": "ipython",
    "version": 3
   },
   "file_extension": ".py",
   "mimetype": "text/x-python",
   "name": "python",
   "nbconvert_exporter": "python",
   "pygments_lexer": "ipython3",
   "version": "3.6.13"
  }
 },
 "nbformat": 4,
 "nbformat_minor": 5
}
